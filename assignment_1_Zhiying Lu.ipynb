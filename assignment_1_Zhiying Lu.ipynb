{
 "cells": [
  {
   "cell_type": "code",
   "execution_count": 4,
   "metadata": {},
   "outputs": [
    {
     "name": "stdout",
     "output_type": "stream",
     "text": [
      "[default]\n",
      "aws_access_key_id=ID\n",
      "aws_secret_access_key=password\n",
      "\n"
     ]
    }
   ],
   "source": [
    "#(a) reads the AWS credentials from a file named awskeys \n",
    "credenttial = open(\"awskeys.txt\",\"r+\")  \n",
    "print(credenttial.read())"
   ]
  },
  {
   "cell_type": "code",
   "execution_count": 7,
   "metadata": {},
   "outputs": [
    {
     "name": "stdout",
     "output_type": "stream",
     "text": [
      "Enter your name:Bruce Lu\n",
      "Bruce Lu\n"
     ]
    }
   ],
   "source": [
    "#(b) prompts the user for his/her name  (f) deletes the file from Amazon S3 storage.\n",
    "x = input('Enter your name:')\n",
    "print(x)"
   ]
  },
  {
   "cell_type": "code",
   "execution_count": 8,
   "metadata": {},
   "outputs": [],
   "source": [
    "#(c) creates a text file locally to store the user's name\n",
    "file1 = open(\"user_name.txt\",\"w\") \n",
    "file1.write(x) \n",
    "file1.close()"
   ]
  },
  {
   "cell_type": "code",
   "execution_count": 24,
   "metadata": {},
   "outputs": [],
   "source": [
    "#(d) uploads it to Amazon S3\n",
    "import boto3\n",
    "session = boto3.Session(profile_name='default')\n",
    "s3 = boto3.client('s3')\n",
    "s3 = session.resource('s3')\n"
   ]
  },
  {
   "cell_type": "code",
   "execution_count": 25,
   "metadata": {},
   "outputs": [
    {
     "name": "stdout",
     "output_type": "stream",
     "text": [
      "bucket name:general1\n"
     ]
    }
   ],
   "source": [
    "for bucket in s3.buckets.all():   \n",
    "    print('bucket name:%s'%bucket.name)"
   ]
  },
  {
   "cell_type": "code",
   "execution_count": 26,
   "metadata": {},
   "outputs": [],
   "source": [
    "data = open('user_name.txt', 'rb')\n",
    "file_obj = s3.Bucket('general1').put_object(Key='user_name.txt', Body=data)"
   ]
  },
  {
   "cell_type": "code",
   "execution_count": 27,
   "metadata": {},
   "outputs": [],
   "source": [
    "#(e) reads the file back and displays the name from the file \n",
    "obj = s3.Object('general1', 'user_name.txt')\n",
    "body = obj.get()['Body'].read()"
   ]
  },
  {
   "cell_type": "code",
   "execution_count": 28,
   "metadata": {},
   "outputs": [
    {
     "data": {
      "text/plain": [
       "b'Bruce Lu'"
      ]
     },
     "execution_count": 28,
     "metadata": {},
     "output_type": "execute_result"
    }
   ],
   "source": [
    "body"
   ]
  },
  {
   "cell_type": "code",
   "execution_count": 31,
   "metadata": {},
   "outputs": [
    {
     "data": {
      "text/plain": [
       "{'ResponseMetadata': {'RequestId': '8365B610413084EC',\n",
       "  'HostId': 'wwjuwHAln4WT2xz0Nc7eYm6x8OFsFvABzukIncbTWqoJs24QQZbsaPGGn+UYGdapB2P9l/mVnqs=',\n",
       "  'HTTPStatusCode': 204,\n",
       "  'HTTPHeaders': {'x-amz-id-2': 'wwjuwHAln4WT2xz0Nc7eYm6x8OFsFvABzukIncbTWqoJs24QQZbsaPGGn+UYGdapB2P9l/mVnqs=',\n",
       "   'x-amz-request-id': '8365B610413084EC',\n",
       "   'date': 'Sat, 20 Jun 2020 19:15:33 GMT',\n",
       "   'server': 'AmazonS3'},\n",
       "  'RetryAttempts': 0}}"
      ]
     },
     "execution_count": 31,
     "metadata": {},
     "output_type": "execute_result"
    }
   ],
   "source": [
    "## (f) deletes the file from Amazon S3 storage.\n",
    "s3.Object('general1', 'user_name.txt').delete()"
   ]
  },
  {
   "cell_type": "code",
   "execution_count": null,
   "metadata": {},
   "outputs": [],
   "source": []
  }
 ],
 "metadata": {
  "kernelspec": {
   "display_name": "Python 3",
   "language": "python",
   "name": "python3"
  },
  "language_info": {
   "codemirror_mode": {
    "name": "ipython",
    "version": 3
   },
   "file_extension": ".py",
   "mimetype": "text/x-python",
   "name": "python",
   "nbconvert_exporter": "python",
   "pygments_lexer": "ipython3",
   "version": "3.7.0"
  }
 },
 "nbformat": 4,
 "nbformat_minor": 2
}
